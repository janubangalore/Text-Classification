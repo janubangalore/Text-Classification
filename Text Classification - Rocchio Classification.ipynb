{
 "cells": [
  {
   "cell_type": "code",
   "execution_count": 5,
   "metadata": {},
   "outputs": [],
   "source": [
    "from sklearn.datasets import fetch_20newsgroups\n",
    "#Choosing categories we require \n",
    "categories = ['alt.atheism','soc.religion.christian','comp.graphics','sci.med']\n",
    "#Will take data from the folder train/test\n",
    "news_train = fetch_20newsgroups(subset='train',categories=categories,shuffle=True)\n",
    "news_test = fetch_20newsgroups(subset='test',categories=categories,shuffle=True)"
   ]
  },
  {
   "cell_type": "code",
   "execution_count": 6,
   "metadata": {},
   "outputs": [
    {
     "data": {
      "text/plain": [
       "(2257, 35788)"
      ]
     },
     "execution_count": 6,
     "metadata": {},
     "output_type": "execute_result"
    }
   ],
   "source": [
    "from sklearn.feature_extraction.text import CountVectorizer\n",
    "count_vect = CountVectorizer()\n",
    "X_train_tf = count_vect.fit_transform(news_train.data)\n",
    "X_train_tf.shape"
   ]
  },
  {
   "cell_type": "code",
   "execution_count": 7,
   "metadata": {},
   "outputs": [
    {
     "data": {
      "text/plain": [
       "(2257, 35788)"
      ]
     },
     "execution_count": 7,
     "metadata": {},
     "output_type": "execute_result"
    }
   ],
   "source": [
    "from sklearn.feature_extraction.text import TfidfTransformer\n",
    "tfidf_transformer = TfidfTransformer()\n",
    "X_train_tfidf = tfidf_transformer.fit_transform(X_train_tf)\n",
    "X_train_tfidf.shape"
   ]
  },
  {
   "cell_type": "code",
   "execution_count": 9,
   "metadata": {},
   "outputs": [],
   "source": [
    "from sklearn.neighbors.nearest_centroid import NearestCentroid\n",
    "clf = NearestCentroid() \n",
    "clf1 = clf.fit(X_train_tfidf,news_train.target)\n",
    "X_test_tf = count_vect.transform(news_test.data)\n",
    "X_test_tfidf = tfidf_transformer.transform(X_test_tf)\n",
    "predicted = clf1.predict(X_test_tfidf)"
   ]
  },
  {
   "cell_type": "code",
   "execution_count": 10,
   "metadata": {},
   "outputs": [
    {
     "name": "stdout",
     "output_type": "stream",
     "text": [
      "Accuracy: 0.7157123834886817\n",
      "                        precision    recall  f1-score   support\n",
      "\n",
      "           alt.atheism       0.92      0.57      0.71       319\n",
      "         comp.graphics       0.61      0.93      0.73       389\n",
      "               sci.med       0.83      0.58      0.68       396\n",
      "soc.religion.christian       0.70      0.76      0.73       398\n",
      "\n",
      "              accuracy                           0.72      1502\n",
      "             macro avg       0.77      0.71      0.71      1502\n",
      "          weighted avg       0.76      0.72      0.71      1502\n",
      "\n"
     ]
    },
    {
     "data": {
      "text/plain": [
       "(None,\n",
       " array([[182,  49,  13,  75],\n",
       "        [  2, 361,  12,  14],\n",
       "        [  3, 123, 228,  42],\n",
       "        [ 10,  63,  21, 304]], dtype=int64))"
      ]
     },
     "execution_count": 10,
     "metadata": {},
     "output_type": "execute_result"
    }
   ],
   "source": [
    "from sklearn import metrics\n",
    "from sklearn.metrics import accuracy_score\n",
    "print(\"Accuracy:\",accuracy_score(news_test.target,predicted))\n",
    "print(metrics.classification_report(news_test.target,predicted,target_names=news_test.target_names)),metrics.confusion_matrix(news_test.target,predicted)"
   ]
  },
  {
   "cell_type": "code",
   "execution_count": null,
   "metadata": {},
   "outputs": [],
   "source": []
  }
 ],
 "metadata": {
  "kernelspec": {
   "display_name": "Python 3",
   "language": "python",
   "name": "python3"
  },
  "language_info": {
   "codemirror_mode": {
    "name": "ipython",
    "version": 3
   },
   "file_extension": ".py",
   "mimetype": "text/x-python",
   "name": "python",
   "nbconvert_exporter": "python",
   "pygments_lexer": "ipython3",
   "version": "3.8.3"
  }
 },
 "nbformat": 4,
 "nbformat_minor": 4
}
