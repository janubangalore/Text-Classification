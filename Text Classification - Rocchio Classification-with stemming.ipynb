{
 "cells": [
  {
   "cell_type": "code",
   "execution_count": 1,
   "metadata": {},
   "outputs": [],
   "source": [
    "from sklearn.datasets import fetch_20newsgroups\n",
    "#Choosing categories we require \n",
    "categories = ['alt.atheism','soc.religion.christian','comp.graphics','sci.med']\n",
    "#Will take data from the folder train/test\n",
    "news_train = fetch_20newsgroups(subset='train',categories=categories,shuffle=True)\n",
    "news_test = fetch_20newsgroups(subset='test',categories=categories,shuffle=True)"
   ]
  },
  {
   "cell_type": "code",
   "execution_count": 3,
   "metadata": {},
   "outputs": [
    {
     "name": "stdout",
     "output_type": "stream",
     "text": [
      "showing info https://raw.githubusercontent.com/nltk/nltk_data/gh-pages/index.xml\n"
     ]
    }
   ],
   "source": [
    "import nltk\n",
    "nltk.download()\n",
    "from nltk.stem.snowball import SnowballStemmer\n",
    "from sklearn.feature_extraction.text import CountVectorizer\n",
    "from sklearn.pipeline import Pipeline\n",
    "from sklearn.feature_extraction.text import TfidfTransformer\n",
    "from sklearn.neighbors import NearestCentroid\n",
    "import numpy as np"
   ]
  },
  {
   "cell_type": "code",
   "execution_count": 4,
   "metadata": {},
   "outputs": [
    {
     "data": {
      "text/plain": [
       "0.8501997336884154"
      ]
     },
     "execution_count": 4,
     "metadata": {},
     "output_type": "execute_result"
    }
   ],
   "source": [
    "stemmer = SnowballStemmer(\"english\", ignore_stopwords=True)\n",
    "\n",
    "class StemmedCountVectorizer(CountVectorizer):\n",
    "    def build_analyzer(self):\n",
    "        analyzer = super(StemmedCountVectorizer, self).build_analyzer()\n",
    "        return lambda doc: ([stemmer.stem(w) for w in analyzer(doc)])\n",
    "    \n",
    "stemmed_count_vect = StemmedCountVectorizer(stop_words='english')\n",
    "\n",
    "text_mnb_stemmed = Pipeline([('vect', stemmed_count_vect),\n",
    "                             ('tfidf', TfidfTransformer()),\n",
    "                             ('mnb', NearestCentroid()),])\n",
    "\n",
    "text_mnb_stemmed = text_mnb_stemmed.fit(news_train.data, news_train.target)\n",
    "\n",
    "predicted_mnb_stemmed = text_mnb_stemmed.predict(news_test.data)\n",
    "\n",
    "np.mean(predicted_mnb_stemmed == news_test.target)"
   ]
  },
  {
   "cell_type": "code",
   "execution_count": 5,
   "metadata": {},
   "outputs": [
    {
     "name": "stdout",
     "output_type": "stream",
     "text": [
      "Accuracy: 0.8501997336884154\n",
      "                        precision    recall  f1-score   support\n",
      "\n",
      "           alt.atheism       0.92      0.66      0.77       319\n",
      "         comp.graphics       0.78      0.99      0.87       389\n",
      "               sci.med       0.91      0.83      0.87       396\n",
      "soc.religion.christian       0.84      0.89      0.87       398\n",
      "\n",
      "              accuracy                           0.85      1502\n",
      "             macro avg       0.86      0.84      0.84      1502\n",
      "          weighted avg       0.86      0.85      0.85      1502\n",
      "\n"
     ]
    },
    {
     "data": {
      "text/plain": [
       "(None,\n",
       " array([[210,  26,  23,  60],\n",
       "        [  1, 384,   4,   0],\n",
       "        [  6,  56, 327,   7],\n",
       "        [ 11,  27,   4, 356]], dtype=int64))"
      ]
     },
     "execution_count": 5,
     "metadata": {},
     "output_type": "execute_result"
    }
   ],
   "source": [
    "from sklearn import metrics\n",
    "from sklearn.metrics import accuracy_score\n",
    "print(\"Accuracy:\",accuracy_score(news_test.target,predicted_mnb_stemmed))\n",
    "print(metrics.classification_report(news_test.target,predicted_mnb_stemmed,target_names=news_test.target_names)),metrics.confusion_matrix(news_test.target,predicted_mnb_stemmed)"
   ]
  }
 ],
 "metadata": {
  "kernelspec": {
   "display_name": "Python 3",
   "language": "python",
   "name": "python3"
  },
  "language_info": {
   "codemirror_mode": {
    "name": "ipython",
    "version": 3
   },
   "file_extension": ".py",
   "mimetype": "text/x-python",
   "name": "python",
   "nbconvert_exporter": "python",
   "pygments_lexer": "ipython3",
   "version": "3.8.5"
  }
 },
 "nbformat": 4,
 "nbformat_minor": 4
}
