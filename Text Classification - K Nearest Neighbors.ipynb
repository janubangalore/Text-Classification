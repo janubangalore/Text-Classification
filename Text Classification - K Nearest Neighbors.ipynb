{
 "cells": [
  {
   "cell_type": "code",
   "execution_count": 1,
   "metadata": {},
   "outputs": [],
   "source": [
    "from sklearn.datasets import fetch_20newsgroups"
   ]
  },
  {
   "cell_type": "code",
   "execution_count": 2,
   "metadata": {},
   "outputs": [],
   "source": [
    "#Choosing categories we require \n",
    "categories = ['alt.atheism','soc.religion.christian','comp.graphics','sci.med']\n",
    "#Will take data from the folder train/test\n",
    "news_train = fetch_20newsgroups(subset='train',categories=categories,shuffle=True)\n",
    "news_test = fetch_20newsgroups(subset='test',categories=categories,shuffle=True)"
   ]
  },
  {
   "cell_type": "code",
   "execution_count": 3,
   "metadata": {},
   "outputs": [
    {
     "name": "stdout",
     "output_type": "stream",
     "text": [
      "Print Vocabulary: {'the': 7, 'quick': 6, 'brown': 0, 'fox': 2, 'jumped': 3, 'over': 5, 'lazy': 4, 'dog': 1}\n",
      "]n\n",
      "Features names:['brown', 'dog', 'fox', 'jumped', 'lazy', 'over', 'quick', 'the']\n",
      "\n",
      "\n",
      "Printing count:\n",
      "[[1 1 1 1 1 1 1 2]\n",
      " [0 1 0 0 0 0 0 1]\n",
      " [0 0 1 0 0 0 0 1]]\n"
     ]
    }
   ],
   "source": [
    "from sklearn.feature_extraction.text import CountVectorizer\n",
    "text = [\"The quick brown fox jumped over the lazy dog.\",\"The dog.\",\"The fox\"]\n",
    "vector = CountVectorizer()\n",
    "vector.fit(text)\n",
    "print(\"Print Vocabulary: \"+ str(vector.vocabulary_)+'\\n]n')\n",
    "vector.get_feature_names()\n",
    "print(\"Features names:\" + str(vector.get_feature_names())+'\\n\\n')\n",
    "counts = vector.transform(text)\n",
    "print(\"Printing count:\"+'\\n'+str(counts.toarray()))"
   ]
  },
  {
   "cell_type": "code",
   "execution_count": 4,
   "metadata": {},
   "outputs": [
    {
     "data": {
      "text/plain": [
       "(2257, 35788)"
      ]
     },
     "execution_count": 4,
     "metadata": {},
     "output_type": "execute_result"
    }
   ],
   "source": [
    "from sklearn.feature_extraction.text import CountVectorizer\n",
    "count_vect = CountVectorizer()\n",
    "X_train_tf = count_vect.fit_transform(news_train.data)\n",
    "X_train_tf.shape"
   ]
  },
  {
   "cell_type": "code",
   "execution_count": 5,
   "metadata": {},
   "outputs": [
    {
     "name": "stdout",
     "output_type": "stream",
     "text": [
      "Learning Frequency of all features:[1.69314718 1.28768207 1.28768207 1.69314718 1.69314718 1.69314718\n",
      " 1.69314718 1.        ]\n",
      "\n",
      "\n",
      "Transforming the matrix based on the learnt frequencies or weight:\n",
      "\n",
      "[[0.36388646 0.27674503 0.27674503 0.36388646 0.36388646 0.36388646\n",
      "  0.36388646 0.42983441]\n",
      " [0.         0.78980693 0.         0.         0.         0.\n",
      "  0.         0.61335554]\n",
      " [0.         0.         0.78980693 0.         0.         0.\n",
      "  0.         0.61335554]]\n"
     ]
    }
   ],
   "source": [
    "from sklearn.feature_extraction.text import TfidfTransformer\n",
    "#create the transform\n",
    "vectorizer = TfidfTransformer()\n",
    "vectorizer.fit(counts)\n",
    "print('Learning Frequency of all features:'+ str(vectorizer.idf_)+'\\n\\n')\n",
    "\n",
    "freq = vectorizer.transform(counts)\n",
    "print('Transforming the matrix based on the learnt frequencies or weight:\\n\\n'+ str(freq.toarray()))\n"
   ]
  },
  {
   "cell_type": "code",
   "execution_count": 6,
   "metadata": {},
   "outputs": [
    {
     "data": {
      "text/plain": [
       "(2257, 35788)"
      ]
     },
     "execution_count": 6,
     "metadata": {},
     "output_type": "execute_result"
    }
   ],
   "source": [
    "tfidf_transformer = TfidfTransformer()\n",
    "X_train_tfidf = tfidf_transformer.fit_transform(X_train_tf)\n",
    "X_train_tfidf.shape"
   ]
  },
  {
   "cell_type": "code",
   "execution_count": 7,
   "metadata": {},
   "outputs": [
    {
     "data": {
      "text/plain": [
       "KNeighborsClassifier()"
      ]
     },
     "execution_count": 7,
     "metadata": {},
     "output_type": "execute_result"
    }
   ],
   "source": [
    "from sklearn.neighbors import KNeighborsClassifier\n",
    "model = KNeighborsClassifier(n_neighbors = 5)\n",
    "model.fit(X_train_tfidf,news_train.target)"
   ]
  },
  {
   "cell_type": "code",
   "execution_count": 8,
   "metadata": {},
   "outputs": [],
   "source": [
    "X_test_tf = count_vect.transform(news_test.data)\n",
    "X_test_tfidf = tfidf_transformer.transform(X_test_tf)\n",
    "predicted = model.predict(X_test_tfidf)"
   ]
  },
  {
   "cell_type": "code",
   "execution_count": 9,
   "metadata": {},
   "outputs": [
    {
     "name": "stdout",
     "output_type": "stream",
     "text": [
      "Accuracy: 0.7656458055925432\n",
      "                        precision    recall  f1-score   support\n",
      "\n",
      "           alt.atheism       0.58      0.87      0.70       319\n",
      "         comp.graphics       0.91      0.79      0.85       389\n",
      "               sci.med       0.89      0.58      0.70       396\n",
      "soc.religion.christian       0.78      0.84      0.81       398\n",
      "\n",
      "              accuracy                           0.77      1502\n",
      "             macro avg       0.79      0.77      0.76      1502\n",
      "          weighted avg       0.80      0.77      0.77      1502\n",
      "\n"
     ]
    },
    {
     "data": {
      "text/plain": [
       "(None,\n",
       " array([[277,   3,   9,  30],\n",
       "        [ 53, 309,  11,  16],\n",
       "        [ 93,  24, 231,  48],\n",
       "        [ 54,   2,   9, 333]], dtype=int64))"
      ]
     },
     "execution_count": 9,
     "metadata": {},
     "output_type": "execute_result"
    }
   ],
   "source": [
    "from sklearn import metrics\n",
    "from sklearn.metrics import accuracy_score\n",
    "print(\"Accuracy:\",accuracy_score(news_test.target,predicted))\n",
    "print(metrics.classification_report(news_test.target,predicted,target_names=news_test.target_names)),metrics.confusion_matrix(news_test.target,predicted)"
   ]
  },
  {
   "cell_type": "code",
   "execution_count": 11,
   "metadata": {},
   "outputs": [
    {
     "data": {
      "text/plain": [
       "[<matplotlib.lines.Line2D at 0x230c6d8dfa0>]"
      ]
     },
     "execution_count": 11,
     "metadata": {},
     "output_type": "execute_result"
    },
    {
     "data": {
      "image/png": "[encoded data removed]",
      "text/plain": [
       "<Figure size 432x288 with 1 Axes>"
      ]
     },
     "metadata": {
      "needs_background": "light"
     },
     "output_type": "display_data"
    }
   ],
   "source": [
    "%matplotlib inline\n",
    "import numpy as np\n",
    "import matplotlib.pyplot as plt\n",
    "error_rates=[]\n",
    "for i in np.arange(1, 100):\n",
    "    new_model = KNeighborsClassifier(n_neighbors = i)\n",
    "    new_model.fit(X_train_tfidf,news_train.target)\n",
    "    new_predictions = new_model.predict(X_test_tfidf)\n",
    "    error_rates.append(np.mean(new_predictions != news_test.target))\n",
    "plt.plot(error_rates)"
   ]
  },
  {
   "cell_type": "code",
   "execution_count": 12,
   "metadata": {},
   "outputs": [
    {
     "name": "stdout",
     "output_type": "stream",
     "text": [
      "Accuracy: 0.796271637816245\n",
      "                        precision    recall  f1-score   support\n",
      "\n",
      "           alt.atheism       0.66      0.87      0.75       319\n",
      "         comp.graphics       0.90      0.81      0.85       389\n",
      "               sci.med       0.86      0.72      0.79       396\n",
      "soc.religion.christian       0.80      0.80      0.80       398\n",
      "\n",
      "              accuracy                           0.80      1502\n",
      "             macro avg       0.80      0.80      0.80      1502\n",
      "          weighted avg       0.81      0.80      0.80      1502\n",
      "\n"
     ]
    },
    {
     "data": {
      "text/plain": [
       "(None,\n",
       " array([[278,   7,  13,  21],\n",
       "        [ 35, 316,  23,  15],\n",
       "        [ 42,  25, 285,  44],\n",
       "        [ 68,   4,   9, 317]], dtype=int64))"
      ]
     },
     "execution_count": 12,
     "metadata": {},
     "output_type": "execute_result"
    }
   ],
   "source": [
    "model = KNeighborsClassifier(n_neighbors = 1)\n",
    "model.fit(X_train_tfidf,news_train.target)\n",
    "X_test_tf = count_vect.transform(news_test.data)\n",
    "X_test_tfidf = tfidf_transformer.transform(X_test_tf)\n",
    "predicted = model.predict(X_test_tfidf)\n",
    "print(\"Accuracy:\",accuracy_score(news_test.target,predicted))\n",
    "print(metrics.classification_report(news_test.target,predicted,target_names=news_test.target_names)),metrics.confusion_matrix(news_test.target,predicted)\n"
   ]
  },
  {
   "cell_type": "code",
   "execution_count": null,
   "metadata": {},
   "outputs": [],
   "source": []
  }
 ],
 "metadata": {
  "kernelspec": {
   "display_name": "Python 3",
   "language": "python",
   "name": "python3"
  },
  "language_info": {
   "codemirror_mode": {
    "name": "ipython",
    "version": 3
   },
   "file_extension": ".py",
   "mimetype": "text/x-python",
   "name": "python",
   "nbconvert_exporter": "python",
   "pygments_lexer": "ipython3",
   "version": "3.8.3"
  }
 },
 "nbformat": 4,
 "nbformat_minor": 4
}
